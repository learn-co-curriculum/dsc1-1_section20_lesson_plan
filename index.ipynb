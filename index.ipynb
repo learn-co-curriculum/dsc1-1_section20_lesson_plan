{
 "cells": [
  {
   "cell_type": "markdown",
   "metadata": {},
   "source": [
    "# Experimental Design - Lesson Plan\n",
    "\n",
    "\n",
    "## Objectives\n",
    "\n",
    "You will be able to:\n",
    " * Explain the relation between $\\alpha$ (alpha), $\\beta$ (beta), power and type I/II errors\n",
    " * Explain the tradeoffs in experimental design between power, sample size and effect size\n",
    " * Perform a standard T-Test to compare the means of equal sized samples\n",
    " * Demonstrate the relationship between power, sample size and effect size using graphs"
   ]
  },
  {
   "cell_type": "markdown",
   "metadata": {},
   "source": [
    "## Prework\n",
    "\n",
    "* Introduction\n",
    "* Introduction to Experimental Design\n",
    "* P-values and the Null Hypothesis\n",
    "* Effect Sizes\n",
    "* Type 1 and Type 2 Errors\n",
    "* Statistical Power\n",
    "* Multiple Comparisons Problem\n",
    "* A/B Testing\n",
    "* Goodhart’s Law and Metric Tracking\n",
    "* ANOVA\n",
    "* Section Recap\n",
    "\n",
    "## Postwork\n",
    "* Type 1 and Type 2 Errors - Lab\n",
    "* One Sample T-Test - Lab\n",
    "* Two Sample T-Test - Lab\n",
    "* Statistical Power - Lab\n",
    "* Effect Sizes, P Values, and Power - Lab\n",
    "* A/B Testing - Lab\n",
    "* ANOVA - Lab"
   ]
  },
  {
   "cell_type": "markdown",
   "metadata": {},
   "source": [
    "## Class Outline\n",
    "\n",
    "1. Introduction 15+ minutes\n",
    "    * Perform an informal assessment and ask students to explain the relations between alpha, beta, power and type I / II errors, clarify if needed\n",
    "    * Progress the discussion to include effect size and sample size and how these intrinsically relate to power\n",
    "        * Again informal assessments should be used to gauge students understanding of this concept\n",
    "        * Discussing the difficulty of detecting a unfair coin with P(Heads)=.55 vs an unfair coin with P(Heads)=.9 can provide intuitive context for how effect size, sample size and power are interconnected\n",
    "2. Applications\n",
    "    * I Do (5 min)\n",
    "    * We Do (10 min)\n",
    "    * You Do (10 min)\n",
    "3. Discussion / Assessment\n",
    "    * Circle back to a high level discussion regarding effect size, sample size and power\n",
    "    * Key Questions:\n",
    "        * If you increase the effect size, and the sample size remains constant, what will happen to the power of the statistical test?\n",
    "        * For a set effect size, how are sample size and power related?\n",
    "        * Explain how the power of a statistical test relates to type I and II errors."
   ]
  },
  {
   "cell_type": "markdown",
   "metadata": {},
   "source": [
    "## Introduction: Effect Size, Sample Size, Power and Type I vs II errors\n",
    "\n",
    "> *Use this as a guideline to orientate the class and review key concepts*\n",
    "\n",
    "Designing well thought out experiments requires careful consideration of balancing the precision and confidence you desire your results to have versus the amount of data required to meet these standards. If you wish to detect a 1% increase in patient outcomes for a new blood pressure medicine, you will need substantially more data then if you were in search of a 5% increase in outcomes. The reason is that more subtle differences such as an increase of only 1%, could be caused by simple random variation alone, and thus the sample size required to confidently detect such small differences can be quite large. \n",
    "\n",
    "One of the most common experimental designs is a **hypothesis test** or **A/B test**. In a hypothesis test, one states the null hypothesis. Typically, this is written with the hope of rejecting the null hypothesis. In the case of the blood pressure example above, it would be sensible to state the null hypothesis along the lines of \"drug B will lower patients normal systolic blood pressure by 10.\" In addition, one then also defines the desired effect size one wishes to be able to reasonably detect for the alternative hypothesis. For example, one might state the alternative hypothesis as \"drug B will lower patients normal systolic blood pressure by 12.\" In this scenario, the measure **effect size** is 2. (The null hypothesis stated 10 vs the alternative hypothesis stated 12; the difference is the effect size.) Finally, one then chooses either a sample size that is feasible to attain, or a required confidence level required for the domain. Typically, many researches use de facto standards of $\\alpha = .05$ or $\\alpha = .01$. These translate to having a 95% confidence and 99% confidence in the results achieved, respectively. That is, an $\\alpha$ value of .05 implies that you will reject the null hypothesis 5% of the time when it is actually true. This is also know as the rate of **type I errors**. While you can use lower values of alpha such as $\\alpha=.01$, doing so will increase the rate of **type II errors**, or the chance that you will accept the null hypothesis when it is actually false. \n",
    "\n",
    "Similarly, we call the rate of type II errors $\\beta$ (beta). Alternatively, the term **power** is used which is $1-\\beta$. Thus as the power increases, the rate of type II errors decreases. Ideally one strives for statistical tests with a high level of power while also maintaining realistic sample sizes. With all of this, let's take a look at conducting some T-tests to compare the means of two sample groups. Afterwards, we'll then further investigate the relationship between power, sample size and effect size."
   ]
  },
  {
   "cell_type": "code",
   "execution_count": null,
   "metadata": {},
   "outputs": [],
   "source": [
    "## I do\n",
    "import numpy as np\n",
    "\n",
    "## Generate 2 random samples\n",
    "sample1 = np.random.normal(loc=10, size=20)\n",
    "sample2 = np.random.normal(loc=12, size=20)\n",
    "\n",
    "## Perform T-Test\n",
    "stats.ttest_ind(sample1, sample2)"
   ]
  },
  {
   "cell_type": "code",
   "execution_count": null,
   "metadata": {},
   "outputs": [],
   "source": [
    "## We do - Mirror Code Above\n",
    "\n",
    "## Generate 2 random samples\n",
    "\n",
    "## Perform T-Test\n",
    "\n",
    "## Repeat and Validate Type I/ Type II error Rates - How can we encapsulate this procedure using a function or functions?\n",
    "def simulate_t_test():\n",
    "    #Probably appropriate as a summative assessment or class discussion\n",
    "\n",
    "## Repeat and Validate Type I/ Type II error Rates\n",
    "effect_size = \n",
    "sample_size =\n",
    "alpha = \n",
    "typeI_errors = 0\n",
    "typeII_errors = 0\n",
    "\n",
    "for i in range(10**3):\n",
    "    #Generate Samples; potentially use a conditional to determine whether null hypothesis is true/false\n",
    "    #Perform T-Test\n",
    "    #Save results to typeI/typeII error counters"
   ]
  },
  {
   "cell_type": "code",
   "execution_count": null,
   "metadata": {},
   "outputs": [],
   "source": [
    "## You do\n",
    "#Choose an effect size. \n",
    "#Generate random samples using this parameter and determine the effective power at various sample sizes. "
   ]
  },
  {
   "cell_type": "markdown",
   "metadata": {},
   "source": [
    "## Discussion Question:\n",
    "\n",
    "* How might you investigate the relationship between effect size, sample size and power for the above scenario?"
   ]
  },
  {
   "cell_type": "markdown",
   "metadata": {},
   "source": [
    "## Assessment\n",
    "\n",
    "* If you increase the effect size, and the sample size remains constant, what will happen to the power of the statistical test?\n",
    "* For a set effect size, how are sample size and power related?\n",
    "* Explain how the power of a statistical test relates to type I and II errors."
   ]
  },
  {
   "cell_type": "markdown",
   "metadata": {},
   "source": [
    "## Common Misconceptions\n",
    "\n",
    "* **Misconception**: Effect size is the difference between the control and experimental group.\n",
    "    > **Clarification**: Effect size is the difference between the null hypothesis and the alternative hypothesis; the difference which you hope to be able to measure. These statistical techniques will not definitively tell you the parametric difference between the two populations themselves. Rather, you are comparing the differences between two population *samples* and using this to determine the likelihood that the underlying populations are substantially different or not. The effect size is the minimum difference that you consider substantial and want to be able to detect in your statistical test."
   ]
  },
  {
   "cell_type": "markdown",
   "metadata": {},
   "source": [
    "### Reflection - To be filled out during pilot / subsequent implementations\n",
    "\n",
    "Here's a list of thought starters for the instructor:\n",
    "* How do you think this lesson went? What were the strongest points? Weakest?\n",
    "* Were there additional student misconceptions that came up?\n",
    "* To what degree have students mastered the defined objectives?\n",
    "* Do you have any thoughts on alternative activities or explanations that would enhance this lesson? \n",
    "\n",
    "Further reflection questions for students can be found [here](https://github.com/learn-co-curriculum/ds-lessons-starter/blob/master/lesson-plan-materials/ReflectionQuestions.md)."
   ]
  }
 ],
 "metadata": {
  "kernelspec": {
   "display_name": "Python 3",
   "language": "python",
   "name": "python3"
  },
  "language_info": {
   "codemirror_mode": {
    "name": "ipython",
    "version": 3
   },
   "file_extension": ".py",
   "mimetype": "text/x-python",
   "name": "python",
   "nbconvert_exporter": "python",
   "pygments_lexer": "ipython3",
   "version": "3.7.3"
  }
 },
 "nbformat": 4,
 "nbformat_minor": 2
}
